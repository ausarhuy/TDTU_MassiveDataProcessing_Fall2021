{
 "cells": [
  {
   "cell_type": "code",
   "execution_count": 1,
   "metadata": {},
   "outputs": [],
   "source": [
    "import re\n",
    "from collections import Counter\n",
    "from urllib.request import urlopen\n",
    "\n",
    "import matplotlib.pyplot as plt\n",
    "import numpy as np\n",
    "import pandas as pd\n",
    "import seaborn as sns\n",
    "from bs4 import BeautifulSoup\n",
    "from sklearn.feature_extraction.text import CountVectorizer"
   ]
  },
  {
   "cell_type": "code",
   "execution_count": 2,
   "metadata": {
    "pycharm": {
     "name": "#%%\n"
    }
   },
   "outputs": [],
   "source": [
    "df = pd.read_csv('data/Quotes.csv')"
   ]
  },
  {
   "cell_type": "code",
   "execution_count": 3,
   "metadata": {
    "pycharm": {
     "name": "#%%\n"
    }
   },
   "outputs": [],
   "source": [
    "def get_age(birth, link):\n",
    "\tpage = urlopen(link)\n",
    "\tsoup = BeautifulSoup(page, 'html.parser')\n",
    "\tage = max(list(filter(lambda x: x < 2021, map(int, re.findall('\\d{4}', soup.text))))) - int(birth[:4])\n",
    "\treturn age if age != 0 else 2021 - int(birth[:4])"
   ]
  },
  {
   "cell_type": "code",
   "execution_count": 5,
   "metadata": {
    "pycharm": {
     "name": "#%%\n"
    }
   },
   "outputs": [],
   "source": [
    "ages = list(map(get_age, df['birthdate'], df['link']))\n",
    "df.insert(loc=1, column='age', value=ages)"
   ]
  },
  {
   "cell_type": "code",
   "execution_count": 6,
   "metadata": {
    "pycharm": {
     "name": "#%%\n"
    }
   },
   "outputs": [
    {
     "data": {
      "text/html": [
       "<div>\n",
       "<style scoped>\n",
       "    .dataframe tbody tr th:only-of-type {\n",
       "        vertical-align: middle;\n",
       "    }\n",
       "\n",
       "    .dataframe tbody tr th {\n",
       "        vertical-align: top;\n",
       "    }\n",
       "\n",
       "    .dataframe thead th {\n",
       "        text-align: right;\n",
       "    }\n",
       "</style>\n",
       "<table border=\"1\" class=\"dataframe\">\n",
       "  <thead>\n",
       "    <tr style=\"text-align: right;\">\n",
       "      <th></th>\n",
       "      <th>name</th>\n",
       "      <th>age</th>\n",
       "      <th>link</th>\n",
       "      <th>birthdate</th>\n",
       "      <th>quote</th>\n",
       "    </tr>\n",
       "  </thead>\n",
       "  <tbody>\n",
       "    <tr>\n",
       "      <th>0</th>\n",
       "      <td>Albert Einstein</td>\n",
       "      <td>129</td>\n",
       "      <td>https://quotes.toscrape.com//author/Albert-Ein...</td>\n",
       "      <td>1879-3-14</td>\n",
       "      <td>The world as we have created it is a process o...</td>\n",
       "    </tr>\n",
       "    <tr>\n",
       "      <th>1</th>\n",
       "      <td>J.K. Rowling</td>\n",
       "      <td>47</td>\n",
       "      <td>https://quotes.toscrape.com//author/J-K-Rowling/</td>\n",
       "      <td>1965-7-31</td>\n",
       "      <td>It is our choices, Harry, that show what we tr...</td>\n",
       "    </tr>\n",
       "    <tr>\n",
       "      <th>2</th>\n",
       "      <td>Albert Einstein</td>\n",
       "      <td>129</td>\n",
       "      <td>https://quotes.toscrape.com//author/Albert-Ein...</td>\n",
       "      <td>1879-3-14</td>\n",
       "      <td>There are only two ways to live your life. One...</td>\n",
       "    </tr>\n",
       "    <tr>\n",
       "      <th>3</th>\n",
       "      <td>Jane Austen</td>\n",
       "      <td>165</td>\n",
       "      <td>https://quotes.toscrape.com//author/Jane-Austen/</td>\n",
       "      <td>1775-12-16</td>\n",
       "      <td>The person, be it gentleman or lady, who has n...</td>\n",
       "    </tr>\n",
       "    <tr>\n",
       "      <th>4</th>\n",
       "      <td>Marilyn Monroe</td>\n",
       "      <td>73</td>\n",
       "      <td>https://quotes.toscrape.com//author/Marilyn-Mo...</td>\n",
       "      <td>1926-6-1</td>\n",
       "      <td>Imperfection is beauty, madness is genius and ...</td>\n",
       "    </tr>\n",
       "    <tr>\n",
       "      <th>...</th>\n",
       "      <td>...</td>\n",
       "      <td>...</td>\n",
       "      <td>...</td>\n",
       "      <td>...</td>\n",
       "      <td>...</td>\n",
       "    </tr>\n",
       "    <tr>\n",
       "      <th>93</th>\n",
       "      <td>E.E. Cummings</td>\n",
       "      <td>68</td>\n",
       "      <td>https://quotes.toscrape.com//author/E-E-Cummings/</td>\n",
       "      <td>1894-10-14</td>\n",
       "      <td>It takes courage to grow up and become who you...</td>\n",
       "    </tr>\n",
       "    <tr>\n",
       "      <th>94</th>\n",
       "      <td>Khaled Hosseini</td>\n",
       "      <td>42</td>\n",
       "      <td>https://quotes.toscrape.com//author/Khaled-Hos...</td>\n",
       "      <td>1965-3-4</td>\n",
       "      <td>But better to get hurt by the truth than comfo...</td>\n",
       "    </tr>\n",
       "    <tr>\n",
       "      <th>95</th>\n",
       "      <td>Harper Lee</td>\n",
       "      <td>73</td>\n",
       "      <td>https://quotes.toscrape.com//author/Harper-Lee/</td>\n",
       "      <td>1926-4-28</td>\n",
       "      <td>You never really understand a person until you...</td>\n",
       "    </tr>\n",
       "    <tr>\n",
       "      <th>96</th>\n",
       "      <td>Madeleine L'Engle</td>\n",
       "      <td>89</td>\n",
       "      <td>https://quotes.toscrape.com//author/Madeleine-...</td>\n",
       "      <td>1918-11-29</td>\n",
       "      <td>You have to write the book that wants to be wr...</td>\n",
       "    </tr>\n",
       "    <tr>\n",
       "      <th>99</th>\n",
       "      <td>George R.R. Martin</td>\n",
       "      <td>50</td>\n",
       "      <td>https://quotes.toscrape.com//author/George-R-R...</td>\n",
       "      <td>1948-9-20</td>\n",
       "      <td>... a mind needs books as a sword needs a whet...</td>\n",
       "    </tr>\n",
       "  </tbody>\n",
       "</table>\n",
       "<p>87 rows × 5 columns</p>\n",
       "</div>"
      ],
      "text/plain": [
       "                  name  age  \\\n",
       "0      Albert Einstein  129   \n",
       "1         J.K. Rowling   47   \n",
       "2      Albert Einstein  129   \n",
       "3          Jane Austen  165   \n",
       "4       Marilyn Monroe   73   \n",
       "..                 ...  ...   \n",
       "93       E.E. Cummings   68   \n",
       "94     Khaled Hosseini   42   \n",
       "95          Harper Lee   73   \n",
       "96   Madeleine L'Engle   89   \n",
       "99  George R.R. Martin   50   \n",
       "\n",
       "                                                 link   birthdate  \\\n",
       "0   https://quotes.toscrape.com//author/Albert-Ein...   1879-3-14   \n",
       "1    https://quotes.toscrape.com//author/J-K-Rowling/   1965-7-31   \n",
       "2   https://quotes.toscrape.com//author/Albert-Ein...   1879-3-14   \n",
       "3    https://quotes.toscrape.com//author/Jane-Austen/  1775-12-16   \n",
       "4   https://quotes.toscrape.com//author/Marilyn-Mo...    1926-6-1   \n",
       "..                                                ...         ...   \n",
       "93  https://quotes.toscrape.com//author/E-E-Cummings/  1894-10-14   \n",
       "94  https://quotes.toscrape.com//author/Khaled-Hos...    1965-3-4   \n",
       "95    https://quotes.toscrape.com//author/Harper-Lee/   1926-4-28   \n",
       "96  https://quotes.toscrape.com//author/Madeleine-...  1918-11-29   \n",
       "99  https://quotes.toscrape.com//author/George-R-R...   1948-9-20   \n",
       "\n",
       "                                                quote  \n",
       "0   The world as we have created it is a process o...  \n",
       "1   It is our choices, Harry, that show what we tr...  \n",
       "2   There are only two ways to live your life. One...  \n",
       "3   The person, be it gentleman or lady, who has n...  \n",
       "4   Imperfection is beauty, madness is genius and ...  \n",
       "..                                                ...  \n",
       "93  It takes courage to grow up and become who you...  \n",
       "94  But better to get hurt by the truth than comfo...  \n",
       "95  You never really understand a person until you...  \n",
       "96  You have to write the book that wants to be wr...  \n",
       "99  ... a mind needs books as a sword needs a whet...  \n",
       "\n",
       "[87 rows x 5 columns]"
      ]
     },
     "execution_count": 6,
     "metadata": {},
     "output_type": "execute_result"
    }
   ],
   "source": [
    "df.groupby(['name', 'age']).head()"
   ]
  },
  {
   "cell_type": "code",
   "execution_count": 4,
   "metadata": {
    "pycharm": {
     "name": "#%%\n"
    }
   },
   "outputs": [],
   "source": [
    "df['length'] = df['quote'].apply(lambda x: len(x.split()))"
   ]
  },
  {
   "cell_type": "code",
   "execution_count": 5,
   "metadata": {
    "pycharm": {
     "name": "#%%\n"
    }
   },
   "outputs": [],
   "source": [
    "quotes = df.quote.values"
   ]
  },
  {
   "cell_type": "code",
   "execution_count": 6,
   "metadata": {
    "pycharm": {
     "name": "#%%\n"
    }
   },
   "outputs": [
    {
     "data": {
      "text/plain": [
       "CountVectorizer()"
      ]
     },
     "execution_count": 6,
     "metadata": {},
     "output_type": "execute_result"
    }
   ],
   "source": [
    "bow = CountVectorizer()\n",
    "bow.fit(quotes)"
   ]
  },
  {
   "cell_type": "code",
   "execution_count": 7,
   "metadata": {
    "pycharm": {
     "name": "#%%\n"
    }
   },
   "outputs": [],
   "source": [
    "vocab_counter = Counter(bow.vocabulary_)"
   ]
  },
  {
   "cell_type": "code",
   "execution_count": 8,
   "metadata": {
    "pycharm": {
     "name": "#%%\n"
    }
   },
   "outputs": [
    {
     "data": {
      "text/plain": [
       "[('yourself', 662),\n",
       " ('yours', 661),\n",
       " ('your', 660),\n",
       " ('youer', 659),\n",
       " ('you', 658),\n",
       " ('year', 657),\n",
       " ('wrung', 656),\n",
       " ('wrote', 655),\n",
       " ('written', 654),\n",
       " ('writing', 653),\n",
       " ('write', 652),\n",
       " ('wrap', 651),\n",
       " ('would', 650),\n",
       " ('worthy', 649),\n",
       " ('worth', 648),\n",
       " ('world', 647),\n",
       " ('work', 646),\n",
       " ('wondering', 645),\n",
       " ('won', 644),\n",
       " ('woman', 643)]"
      ]
     },
     "execution_count": 8,
     "metadata": {},
     "output_type": "execute_result"
    }
   ],
   "source": [
    "vocab_counter.most_common(20)"
   ]
  },
  {
   "cell_type": "code",
   "execution_count": 9,
   "metadata": {
    "pycharm": {
     "name": "#%%\n"
    }
   },
   "outputs": [
    {
     "name": "stdout",
     "output_type": "stream",
     "text": [
      "Number of unique words:  663\n"
     ]
    }
   ],
   "source": [
    "print('Number of unique words: ', len(vocab_counter))"
   ]
  },
  {
   "cell_type": "code",
   "execution_count": 10,
   "metadata": {
    "pycharm": {
     "name": "#%%\n"
    }
   },
   "outputs": [],
   "source": [
    "top20_word = pd.DataFrame(reversed(vocab_counter.most_common(20)), columns=['word', 'feq'])"
   ]
  },
  {
   "cell_type": "code",
   "execution_count": 11,
   "metadata": {
    "pycharm": {
     "is_executing": true,
     "name": "#%%\n"
    }
   },
   "outputs": [
    {
     "ename": "TypeError",
     "evalue": "bar() missing 1 required positional argument: 'height'",
     "output_type": "error",
     "traceback": [
      "\u001b[1;31m---------------------------------------------------------------------------\u001b[0m",
      "\u001b[1;31mTypeError\u001b[0m                                 Traceback (most recent call last)",
      "\u001b[1;32m~\\AppData\\Local\\Temp/ipykernel_19196/1937472856.py\u001b[0m in \u001b[0;36m<module>\u001b[1;34m\u001b[0m\n\u001b[1;32m----> 1\u001b[1;33m \u001b[0mplt\u001b[0m\u001b[1;33m.\u001b[0m\u001b[0mbar\u001b[0m\u001b[1;33m(\u001b[0m\u001b[0mx\u001b[0m\u001b[1;33m=\u001b[0m\u001b[1;34m'feq'\u001b[0m\u001b[1;33m,\u001b[0m \u001b[0my\u001b[0m\u001b[1;33m=\u001b[0m\u001b[1;34m'word'\u001b[0m\u001b[1;33m,\u001b[0m \u001b[0mdata\u001b[0m\u001b[1;33m=\u001b[0m\u001b[0mtop20_word\u001b[0m\u001b[1;33m)\u001b[0m\u001b[1;33m\u001b[0m\u001b[1;33m\u001b[0m\u001b[0m\n\u001b[0m\u001b[0;32m      2\u001b[0m \u001b[0mplt\u001b[0m\u001b[1;33m.\u001b[0m\u001b[0mxlim\u001b[0m\u001b[1;33m(\u001b[0m\u001b[1;33m(\u001b[0m\u001b[1;36m630\u001b[0m\u001b[1;33m,\u001b[0m \u001b[1;36m670\u001b[0m\u001b[1;33m)\u001b[0m\u001b[1;33m)\u001b[0m\u001b[1;33m\u001b[0m\u001b[1;33m\u001b[0m\u001b[0m\n\u001b[0;32m      3\u001b[0m \u001b[0mplt\u001b[0m\u001b[1;33m.\u001b[0m\u001b[0mshow\u001b[0m\u001b[1;33m(\u001b[0m\u001b[1;33m)\u001b[0m\u001b[1;33m\u001b[0m\u001b[1;33m\u001b[0m\u001b[0m\n",
      "\u001b[1;31mTypeError\u001b[0m: bar() missing 1 required positional argument: 'height'"
     ]
    }
   ],
   "source": [
    "plt.bar(x='feq', y='word', data=top20_word)\n",
    "plt.xlim((630, 670))\n",
    "plt.show()"
   ]
  },
  {
   "cell_type": "code",
   "execution_count": null,
   "metadata": {
    "pycharm": {
     "name": "#%%\n"
    }
   },
   "outputs": [],
   "source": [
    "author = df.name.values\n"
   ]
  },
  {
   "cell_type": "code",
   "execution_count": null,
   "metadata": {
    "pycharm": {
     "name": "#%%\n"
    }
   },
   "outputs": [],
   "source": [
    "author_counter = Counter(author)"
   ]
  },
  {
   "cell_type": "code",
   "execution_count": null,
   "metadata": {
    "pycharm": {
     "name": "#%%\n"
    }
   },
   "outputs": [],
   "source": [
    "author_counter.most_common(10)"
   ]
  },
  {
   "cell_type": "code",
   "execution_count": null,
   "metadata": {
    "pycharm": {
     "name": "#%%\n"
    }
   },
   "outputs": [],
   "source": [
    "top10_author = pd.DataFrame(reversed(author_counter.most_common(10)), columns=['author', 'total quotes'])\n"
   ]
  },
  {
   "cell_type": "code",
   "execution_count": null,
   "metadata": {
    "pycharm": {
     "name": "#%%\n"
    }
   },
   "outputs": [],
   "source": [
    "sns.barplot(x='total quotes', y='author', data=top10_author)\n"
   ]
  },
  {
   "cell_type": "code",
   "execution_count": null,
   "metadata": {
    "pycharm": {
     "name": "#%%\n"
    }
   },
   "outputs": [],
   "source": [
    "df.drop_duplicates(subset='name')"
   ]
  },
  {
   "cell_type": "code",
   "execution_count": null,
   "metadata": {
    "pycharm": {
     "name": "#%%\n"
    }
   },
   "outputs": [],
   "source": [
    "max_idx = np.argmax(df.length.values)\n",
    "min_idx = np.argmin(df.length.values)\n",
    "print('The longest quote is:\\n', df.quote.values[max_idx])\n",
    "print('The shortest quote is:\\n', df.quote.values[max_idx])\n",
    "print(\"Average length is: \", df.length.values.mean())"
   ]
  }
 ],
 "metadata": {
  "kernelspec": {
   "display_name": "PyCharm (518H0626-Hoang Gia Huy-Midterm)",
   "language": "python",
   "name": "pycharm-b2f8c85a"
  },
  "language_info": {
   "codemirror_mode": {
    "name": "ipython",
    "version": 3
   },
   "file_extension": ".py",
   "mimetype": "text/x-python",
   "name": "python",
   "nbconvert_exporter": "python",
   "pygments_lexer": "ipython3",
   "version": "3.8.12"
  }
 },
 "nbformat": 4,
 "nbformat_minor": 1
}
